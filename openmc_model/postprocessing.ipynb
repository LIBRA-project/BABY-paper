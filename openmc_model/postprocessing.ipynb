{
 "cells": [
  {
   "cell_type": "code",
   "execution_count": 6,
   "metadata": {},
   "outputs": [],
   "source": [
    "import openmc\n",
    "import numpy as np\n",
    "import matplotlib.pyplot as plt\n",
    "from matplotlib.ticker import ScalarFormatter"
   ]
  },
  {
   "cell_type": "code",
   "execution_count": 7,
   "metadata": {},
   "outputs": [],
   "source": [
    "# Define function for string formatting of scientific notation\n",
    "def sci_notation(num, decimal_digits=1, precision=None, exponent=None):\n",
    "    \"\"\"\n",
    "    Returns a string representation of the scientific\n",
    "    notation of the given number formatted for use with\n",
    "    LaTeX or Mathtext, with specified number of significant\n",
    "    decimal digits and precision (number of decimal digits\n",
    "    to show). The exponent to be used can also be specified\n",
    "    explicitly.\n",
    "    \"\"\"\n",
    "    from math import floor, log10\n",
    "\n",
    "    if exponent is None:\n",
    "        exponent = int(floor(log10(abs(num))))\n",
    "    coeff = round(num / float(10**exponent), decimal_digits)\n",
    "    if precision is None:\n",
    "        precision = decimal_digits\n",
    "\n",
    "    return r\"${0:.{2}f}\\times 10^{{{1:d}}}$\".format(coeff, exponent, precision)"
   ]
  },
  {
   "cell_type": "code",
   "execution_count": 8,
   "metadata": {},
   "outputs": [],
   "source": [
    "# data\n",
    "flibe_sp = openmc.StatePoint('flibe/statepoint.100.h5')\n",
    "cllif_sp = openmc.StatePoint('clif/statepoint.100.h5')\n",
    "flinak_sp = openmc.StatePoint('flinak/statepoint.100.h5')\n",
    "pbli_sp = openmc.StatePoint('pbli/statepoint.100.h5')\n",
    "\n",
    "sp = [flibe_sp, cllif_sp, flinak_sp, pbli_sp]"
   ]
  },
  {
   "cell_type": "code",
   "execution_count": 9,
   "metadata": {},
   "outputs": [],
   "source": [
    "tbr_li6_mean = np.array([s.get_tally(name='salt_cell_tbr').mean.squeeze()[0] for s in sp])\n",
    "tbr_li7_mean = np.array([s.get_tally(name='salt_cell_tbr').mean.squeeze()[1] for s in sp])\n",
    "tbr_tot_mean = np.array([s.get_tally(name='salt_cell_tbr2').mean.squeeze() for s in sp])"
   ]
  },
  {
   "cell_type": "code",
   "execution_count": 10,
   "metadata": {},
   "outputs": [
    {
     "name": "stdout",
     "output_type": "stream",
     "text": [
      "[3.55219906e-04 4.54866664e-04 2.03969408e-04 7.97009454e-05]\n"
     ]
    },
    {
     "data": {
      "image/png": "[encoded data removed]",
      "text/plain": [
       "<Figure size 600x500 with 1 Axes>"
      ]
     },
     "metadata": {},
     "output_type": "display_data"
    }
   ],
   "source": [
    "x = np.arange(4)\n",
    "breeders = [\"FLiBe\", \"ClLiF\", \"FLiNaK\", \"PbLi\"]\n",
    "\n",
    "print(tbr_li7_mean)\n",
    "\n",
    "fig, ax = plt.subplots(figsize=(6, 5))\n",
    "li7 = ax.bar(x, tbr_li7_mean, label=\"Li-7\", bottom=0)\n",
    "li6 = ax.bar(x, tbr_li6_mean, label=\"Li-6\", bottom=tbr_li7_mean)\n",
    "others = ax.bar(\n",
    "    x,\n",
    "    tbr_tot_mean - tbr_li6_mean - tbr_li7_mean,\n",
    "    label=\"other\",\n",
    "    bottom=tbr_li7_mean + tbr_li6_mean,\n",
    ")\n",
    "\n",
    "ax.bar_label(others, padding=6, fontsize=10, fmt=lambda x: sci_notation(x, 2), backgroundcolor=\"white\")\n",
    "\n",
    "for i in [0, 2, 3]:\n",
    "    li6.patches[i].set_alpha(0.6)\n",
    "    li7.patches[i].set_alpha(0.6)\n",
    "    others.patches[i].set_alpha(0.6)\n",
    "\n",
    "ax.set_xticks(x)\n",
    "ax.set_xticklabels(breeders)\n",
    "handles, labels = ax.get_legend_handles_labels()\n",
    "ax.legend(handles[::-1], labels[::-1], fontsize=12)\n",
    "ax.spines[[\"right\", \"top\"]].set_visible(False)\n",
    "ax.set_axisbelow(True)\n",
    "ax.yaxis.grid(color=\"gray\", alpha=0.5, lw=1.2)\n",
    "ax.set_ylabel(\"TBR (-)\", fontsize=12)\n",
    "ax.set_ylim(0, 6e-4)\n",
    "ax.yaxis.set_major_formatter(ScalarFormatter(useMathText=True, useOffset=False))\n",
    "ax.ticklabel_format(axis=\"y\", style=\"sci\", scilimits=(0, 0))\n",
    "\n",
    "for ext in [\"pdf\", \"png\", \"svg\"]:\n",
    "    plt.savefig(f\"tbr_chart.{ext}\", bbox_inches=\"tight\")\n",
    "plt.show()"
   ]
  },
  {
   "cell_type": "code",
   "execution_count": null,
   "metadata": {},
   "outputs": [],
   "source": []
  }
 ],
 "metadata": {
  "kernelspec": {
   "display_name": "baby_neutronics",
   "language": "python",
   "name": "python3"
  },
  "language_info": {
   "codemirror_mode": {
    "name": "ipython",
    "version": 3
   },
   "file_extension": ".py",
   "mimetype": "text/x-python",
   "name": "python",
   "nbconvert_exporter": "python",
   "pygments_lexer": "ipython3",
   "version": "3.9.18"
  }
 },
 "nbformat": 4,
 "nbformat_minor": 2
}
